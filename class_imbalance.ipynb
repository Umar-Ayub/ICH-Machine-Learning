{
 "cells": [
  {
   "cell_type": "code",
   "execution_count": 2,
   "metadata": {},
   "outputs": [
    {
     "name": "stdout",
     "output_type": "stream",
     "text": [
      "Class distribution for MRS90_binarized:\n",
      "MRS90_binarized\n",
      "0    59.76016\n",
      "1    40.23984 \n",
      "\n",
      "Class distribution for MORT90:\n",
      "MORT90\n",
      "0    85.20986\n",
      "1    14.79014 \n",
      "\n"
     ]
    }
   ],
   "source": [
    "import pandas as pd\n",
    "\n",
    "# Assuming df is your DataFrame after loading the dataset\n",
    "df = pd.read_csv('../ich_data_w_scores_modified.csv')\n",
    "\n",
    "# For MRS90, you've already binarized it\n",
    "df['MRS90_binarized'] = df['MRS90'].apply(lambda x: 0 if x <= 3 else 1)\n",
    "\n",
    "# No need to binarize MORT90 assuming it's already in binary format indicating mortality outcome\n",
    "\n",
    "# Function to print class distribution for specified column\n",
    "def print_class_distribution(df, column_name):\n",
    "    class_counts = df[column_name].value_counts(normalize=True) * 100\n",
    "    print(f\"Class distribution for {column_name}:\")\n",
    "    print(class_counts.to_string(), '\\n')\n",
    "\n",
    "# Printing class distributions\n",
    "print_class_distribution(df, 'MRS90_binarized')\n",
    "print_class_distribution(df, 'MORT90')\n"
   ]
  },
  {
   "cell_type": "code",
   "execution_count": 4,
   "metadata": {},
   "outputs": [],
   "source": [
    "df = pd.read_csv('../ich_data_w_scores_modified.csv')"
   ]
  },
  {
   "cell_type": "code",
   "execution_count": 6,
   "metadata": {},
   "outputs": [
    {
     "data": {
      "text/plain": [
       "Index(['AGE', 'GENDER', 'ETHNICITY', 'MODE', 'NIHSSADM', 'RBS', 'SBP', 'DBP',\n",
       "       'HR', 'BMI', 'PRIORAC', 'PRIORAP', 'PRIORANTIHTN', 'PRIORANTIDM',\n",
       "       'DMADM', 'HTNADM', 'HTNTYPE', 'DYSLIPADM', 'STROKE', 'AF', 'CAD',\n",
       "       'SMOKING', 'DMTYPE', 'HbA1c', 'CHOL', 'TRIG', 'HDL', 'LDL', 'PLT',\n",
       "       'INR', 'APTT', 'EVD', 'HCM', 'COMBINED', 'ANYPROCEDURE', 'SWCARE',\n",
       "       'SWDIRECT', 'ICUCARE', 'INTUBATED', 'ARETRIALLINE', 'SITE', 'GCSADM',\n",
       "       'VOLUME1', 'HEMSTATUS', 'GCSSCORE', 'IVH', 'VOLUME30', 'INFRATENTORIAL',\n",
       "       'AGE80', 'ICHSCORE', 'MORT90', 'MRS90', 'HEMSIZE', 'BLEEDSITE',\n",
       "       'oICH_score', 'mICH_score', 'ICH_GS_score', 'LSICH_score',\n",
       "       'ICH_FOS_score', 'Max_ICH_score'],\n",
       "      dtype='object')"
      ]
     },
     "execution_count": 6,
     "metadata": {},
     "output_type": "execute_result"
    }
   ],
   "source": [
    "df.columns"
   ]
  },
  {
   "cell_type": "code",
   "execution_count": null,
   "metadata": {},
   "outputs": [],
   "source": []
  }
 ],
 "metadata": {
  "kernelspec": {
   "display_name": "open-ai",
   "language": "python",
   "name": "python3"
  },
  "language_info": {
   "codemirror_mode": {
    "name": "ipython",
    "version": 3
   },
   "file_extension": ".py",
   "mimetype": "text/x-python",
   "name": "python",
   "nbconvert_exporter": "python",
   "pygments_lexer": "ipython3",
   "version": "3.12.0"
  }
 },
 "nbformat": 4,
 "nbformat_minor": 2
}
